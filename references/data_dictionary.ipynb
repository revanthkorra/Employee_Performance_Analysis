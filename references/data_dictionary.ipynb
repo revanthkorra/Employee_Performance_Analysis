{
 "cells": [
  {
   "cell_type": "markdown",
   "id": "7dc4bdd0",
   "metadata": {},
   "source": [
    "##  Dataset Source\n",
    "This project uses the following dataset:\n",
    "- **Title**: INX Future Inc Employee Performance Data\n",
    "- **URL**: [Download Link](http://data.iabac.org/exam/p2/data/INX_Future_Inc_Employee_Performance_CDS_Project2_Data_V1.8.xls)\n",
    "- **Provided by**: IABAC\n",
    "- **Format**: `Microsoft Excel (.xls)`\n",
    "- **Purpose**: Used for employee performance classification.\n"
   ]
  },
  {
   "cell_type": "markdown",
   "id": "dced3899",
   "metadata": {},
   "source": [
    "# Data Dictionary - Employee Performance Dataset\n",
    "\n",
    "| Column Name             | Description                                                     | Type        |\n",
    "| ----------------------- | --------------------------------------------------------------- | ----------- |\n",
    "| Age                     | Age of the employee                                             | Numeric     |\n",
    "| Attrition               | Whether the employee has left the company (0 = No, 1 = Yes)     | Binary      |\n",
    "| BusinessTravelFrequency | Frequency of business travel                                    | Ordinal     |\n",
    "| DistanceFromHome        | Distance (in km) between home and work                          | Numeric     |\n",
    "| EmpDepartment           | Employee department (e.g., Sales, Development)                  | Categorical |\n",
    "| EducationBackground     | Field of education                                              | Ordinal     |\n",
    "| EmpJobRole              | Job role of the employee                                        | Ordinal     |\n",
    "| EnvironmentSatisfaction | Satisfaction with work environment (1–4)                        | Ordinal     |\n",
    "| Gender                  | Gender of employee (0 = Female, 1 = Male)                       | Binary      |\n",
    "| JobInvolvement          | Level of job involvement (1–4)                                  | Ordinal     |\n",
    "| JobSatisfaction         | Job satisfaction level (1–4)                                    | Ordinal     |\n",
    "| MaritalStatus           | Marital status (Single, Married, Divorced)                      | Ordinal     |\n",
    "| MonthlyIncome           | Monthly income of the employee                                  | Numeric     |\n",
    "| NumCompaniesWorked      | Number of companies previously worked for                       | Numeric     |\n",
    "| OverTime                | Whether the employee works overtime (0 = No, 1 = Yes)           | Binary      |\n",
    "| PercentSalaryHike       | Last salary hike percentage                                     | Numeric     |\n",
    "| TotalWorkingYears       | Total years of work experience                                  | Numeric     |\n",
    "| TrainingTimesLastYear   | Training attended last year                                     | Numeric     |\n",
    "| WorkLifeBalance         | Work-life balance rating (1–4)                                  | Ordinal     |\n",
    "| YearsAtCompany          | Years the employee has been at the company                      | Numeric     |\n",
    "| YearsSinceLastPromotion | Years since the last promotion                                  | Numeric     |\n",
    "| YearsWithCurrManager    | Years with current manager                                      | Numeric     |\n",
    "| PerformanceRating       | Target variable: performance score (2 = Low, 3 = Avg, 4 = High) | Ordinal     |\n"
   ]
  }
 ],
 "metadata": {
  "kernelspec": {
   "display_name": "Python 3 (ipykernel)",
   "language": "python",
   "name": "python3"
  },
  "language_info": {
   "codemirror_mode": {
    "name": "ipython",
    "version": 3
   },
   "file_extension": ".py",
   "mimetype": "text/x-python",
   "name": "python",
   "nbconvert_exporter": "python",
   "pygments_lexer": "ipython3",
   "version": "3.11.4"
  }
 },
 "nbformat": 4,
 "nbformat_minor": 5
}
