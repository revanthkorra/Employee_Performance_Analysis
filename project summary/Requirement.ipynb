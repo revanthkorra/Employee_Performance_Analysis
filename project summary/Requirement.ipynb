{
 "cells": [
  {
   "cell_type": "markdown",
   "id": "f8880623",
   "metadata": {},
   "source": [
    "#  Project Requirement"
   ]
  },
  {
   "cell_type": "markdown",
   "id": "0102c5f5",
   "metadata": {},
   "source": [
    "##  Objective\n",
    "To predict employee performance ratings using structured HR data to support decisions like promotions, training, and workforce optimization.\n"
   ]
  },
  {
   "cell_type": "markdown",
   "id": "b89a57b6",
   "metadata": {},
   "source": [
    "##  Dataset Used\n",
    "- `employee_data.csv` from internal HR records.\n",
    "- Contains features like: Age, Gender, Department, EnvironmentSatisfaction, OverTime, etc.\n"
   ]
  },
  {
   "cell_type": "markdown",
   "id": "df662c44",
   "metadata": {},
   "source": [
    "## Use Case\n",
    "Automated prediction of employee performance to:\n",
    "- Identify top performers for promotions.\n",
    "- Detect underperformers needing support.\n",
    "- Optimize HR planning and resources."
   ]
  },
  {
   "cell_type": "markdown",
   "id": "8e98b59e",
   "metadata": {},
   "source": [
    "## Target Variable\n",
    "- **PerformanceRating** (Multi-class: 2, 3, 4)\n"
   ]
  }
 ],
 "metadata": {
  "kernelspec": {
   "display_name": "Python 3 (ipykernel)",
   "language": "python",
   "name": "python3"
  },
  "language_info": {
   "codemirror_mode": {
    "name": "ipython",
    "version": 3
   },
   "file_extension": ".py",
   "mimetype": "text/x-python",
   "name": "python",
   "nbconvert_exporter": "python",
   "pygments_lexer": "ipython3",
   "version": "3.11.4"
  }
 },
 "nbformat": 4,
 "nbformat_minor": 5
}
