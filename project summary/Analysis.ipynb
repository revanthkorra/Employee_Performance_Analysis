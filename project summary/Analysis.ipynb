{
 "cells": [
  {
   "cell_type": "markdown",
   "id": "aa5ba92f",
   "metadata": {},
   "source": [
    "#  Analysis "
   ]
  },
  {
   "cell_type": "markdown",
   "id": "a0c5f6e7",
   "metadata": {},
   "source": [
    "## 1. Data Cleaning\n",
    "- Dropped irrelevant columns (`EmpNumber`)\n",
    "- Applied ordinal encoding for categorical variables\n",
    "- Converted binary columns to 0/1"
   ]
  },
  {
   "cell_type": "markdown",
   "id": "d7e102c2",
   "metadata": {},
   "source": [
    "## 2. Class Imbalance Handling\n",
    "- Applied **SMOTE** on training set to balance underrepresented ratings.\n"
   ]
  },
  {
   "cell_type": "markdown",
   "id": "fd6763e0",
   "metadata": {},
   "source": [
    "## 3. Feature Scaling\n",
    "- Used **StandardScaler** to normalize continuous features.\n"
   ]
  },
  {
   "cell_type": "markdown",
   "id": "18cba2e7",
   "metadata": {},
   "source": [
    "## 4. Model Comparison\n",
    "- Evaluated 6 classifiers: Logistic Regression, Decision Tree, Random Forest, SVM, KNN, XGBoost.\n",
    "- Used metrics: **Accuracy** and **F1-Macro**.\n"
   ]
  },
  {
   "cell_type": "markdown",
   "id": "a223c46c",
   "metadata": {},
   "source": [
    "## 5. Explainability\n",
    "- Used **SHAP** to interpret global and individual feature impacts.\n"
   ]
  },
  {
   "cell_type": "code",
   "execution_count": null,
   "id": "60a36731",
   "metadata": {},
   "outputs": [],
   "source": []
  }
 ],
 "metadata": {
  "kernelspec": {
   "display_name": "Python 3 (ipykernel)",
   "language": "python",
   "name": "python3"
  },
  "language_info": {
   "codemirror_mode": {
    "name": "ipython",
    "version": 3
   },
   "file_extension": ".py",
   "mimetype": "text/x-python",
   "name": "python",
   "nbconvert_exporter": "python",
   "pygments_lexer": "ipython3",
   "version": "3.11.4"
  }
 },
 "nbformat": 4,
 "nbformat_minor": 5
}
